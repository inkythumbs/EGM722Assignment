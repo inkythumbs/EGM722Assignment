{
 "cells": [
  {
   "cell_type": "markdown",
   "id": "832960da",
   "metadata": {},
   "source": [
    "Distribution of Scheduled Monuments in England.\n",
    "\n",
    "This code will find the nearest scheduled monument to the centre point of a given English postcode\n"
   ]
  },
  {
   "cell_type": "code",
   "execution_count": 104,
   "id": "0a4c3297",
   "metadata": {},
   "outputs": [],
   "source": [
    "import pandas as pd\n",
    "import geopandas as gpd\n",
    "import matplotlib.pyplot as plt\n",
    "from mpl_toolkits.axes_grid1 import make_axes_locatable\n",
    "from cartopy.feature import ShapelyFeature\n",
    "import cartopy.crs as ccrs\n",
    "import matplotlib.patches as mpatches\n",
    "from shapely.geometry import Point\n",
    "\n"
   ]
  },
  {
   "cell_type": "code",
   "execution_count": 105,
   "id": "29c02223",
   "metadata": {},
   "outputs": [
    {
     "name": "stdout",
     "output_type": "stream",
     "text": [
      "   OBJECTID    LAD21CD               LAD21NM   BNG_E   BNG_N     LONG  \\\n",
      "0         1  E06000001            Hartlepool  447160  531474 -1.27018   \n",
      "1         2  E06000002         Middlesbrough  451141  516887 -1.21099   \n",
      "2         3  E06000003  Redcar and Cleveland  464361  519597 -1.00608   \n",
      "3         4  E06000004      Stockton-on-Tees  444940  518183 -1.30664   \n",
      "4         5  E06000005            Darlington  428029  515648 -1.56835   \n",
      "\n",
      "         LAT     SHAPE_Leng    SHAPE_Area  \\\n",
      "0  54.676140   66110.011028  9.835107e+07   \n",
      "1  54.544670   41055.789790  5.455359e+07   \n",
      "2  54.567520  105292.103526  2.537854e+08   \n",
      "3  54.556911  108085.190140  2.097308e+08   \n",
      "4  54.535339  107203.152334  1.974778e+08   \n",
      "\n",
      "                                            geometry  \n",
      "0  POLYGON ((447213.900 537036.104, 447228.798 53...  \n",
      "1  POLYGON ((448489.897 522071.798, 448592.597 52...  \n",
      "2  POLYGON ((455525.931 528406.654, 455724.632 52...  \n",
      "3  POLYGON ((444157.002 527956.304, 444165.898 52...  \n",
      "4  POLYGON ((423496.602 524724.299, 423497.204 52...  \n"
     ]
    }
   ],
   "source": [
    "counties = gpd.read_file('C:\\\\Users\\\\inkyt\\\\Documents\\\\GitHub\\\\egm722\\\\EGM722_Assignment\\\\LAs\\\\LAD_MAY_2021_UK_BFE_V2.shp')\n",
    "print(counties.head())"
   ]
  },
  {
   "cell_type": "code",
   "execution_count": 106,
   "id": "ae449346",
   "metadata": {},
   "outputs": [
    {
     "name": "stdout",
     "output_type": "stream",
     "text": [
      "   ListEntry                                     Name   SchedDate AmendDate  \\\n",
      "0    1001718                     Mound S of Woodbrook        None      None   \n",
      "1    1001719                              Castle Twts        None      None   \n",
      "2    1001720                         Lyonshall Castle        None      None   \n",
      "3    1001721  Mound 1200yds (1100m) NNE of the Church  1935-08-24      None   \n",
      "4    1001722                         Limebrook Priory        None      None   \n",
      "\n",
      "  LegacyUID             NGR CaptureSca        Easting       Northing  \\\n",
      "0    HE 106  SO 30447 54456    1:10000  330447.291404  254454.114532   \n",
      "1    HE 107  SO 27703 55474    1:10000  327703.569954  255473.151246   \n",
      "2    HE 108  SO 33165 56319    1:10000  333163.723679  256327.100384   \n",
      "3    HE 109  SO 37237 68101    1:10000  337235.814277  268099.929714   \n",
      "4    HE 110  SO 37411 66071    1:10000  337406.349835  266070.613537   \n",
      "\n",
      "    AREA_HA                                          Hyperlink  \\\n",
      "0  0.214169  https://historicengland.org.uk/listing/the-lis...   \n",
      "1  0.094647  https://historicengland.org.uk/listing/the-lis...   \n",
      "2  1.528104  https://historicengland.org.uk/listing/the-lis...   \n",
      "3  0.288497  https://historicengland.org.uk/listing/the-lis...   \n",
      "4  0.554659  https://historicengland.org.uk/listing/the-lis...   \n",
      "\n",
      "                                            geometry  \n",
      "0  POLYGON ((330461.082 254430.814, 330448.625 25...  \n",
      "1  POLYGON ((327719.469 255459.641, 327714.656 25...  \n",
      "2  POLYGON ((333210.781 256388.797, 333238.688 25...  \n",
      "3  POLYGON ((337251.501 268073.151, 337244.700 26...  \n",
      "4  POLYGON ((337389.625 266022.125, 337378.531 26...  \n"
     ]
    }
   ],
   "source": [
    "monuments = gpd.read_file('C:\\\\Users\\\\inkyt\\\\Documents\\\\GitHub\\\\egm722\\\\EGM722_Assignment\\\\Scheduled Monuments\\\\ScheduledMonuments_08April2022.shp')\n",
    "print(monuments.head())"
   ]
  },
  {
   "cell_type": "code",
   "execution_count": 107,
   "id": "429c5e32",
   "metadata": {},
   "outputs": [
    {
     "data": {
      "text/plain": [
       "<Projected CRS: EPSG:27700>\n",
       "Name: OSGB 1936 / British National Grid\n",
       "Axis Info [cartesian]:\n",
       "- E[east]: Easting (metre)\n",
       "- N[north]: Northing (metre)\n",
       "Area of Use:\n",
       "- name: United Kingdom (UK) - offshore to boundary of UKCS within 49°45'N to 61°N and 9°W to 2°E; onshore Great Britain (England, Wales and Scotland). Isle of Man onshore.\n",
       "- bounds: (-9.0, 49.75, 2.01, 61.01)\n",
       "Coordinate Operation:\n",
       "- name: British National Grid\n",
       "- method: Transverse Mercator\n",
       "Datum: OSGB 1936\n",
       "- Ellipsoid: Airy 1830\n",
       "- Prime Meridian: Greenwich"
      ]
     },
     "execution_count": 107,
     "metadata": {},
     "output_type": "execute_result"
    }
   ],
   "source": [
    "monuments.crs"
   ]
  },
  {
   "cell_type": "code",
   "execution_count": 89,
   "id": "32da4095",
   "metadata": {},
   "outputs": [
    {
     "name": "stderr",
     "output_type": "stream",
     "text": [
      "C:\\Users\\inkyt\\anaconda3\\envs\\egm722\\lib\\site-packages\\geopandas\\geodataframe.py:577: RuntimeWarning: Sequential read of iterator was interrupted. Resetting iterator. This can negatively impact the performance.\n",
      "  for feature in features_lst:\n"
     ]
    },
    {
     "data": {
      "text/html": [
       "<div>\n",
       "<style scoped>\n",
       "    .dataframe tbody tr th:only-of-type {\n",
       "        vertical-align: middle;\n",
       "    }\n",
       "\n",
       "    .dataframe tbody tr th {\n",
       "        vertical-align: top;\n",
       "    }\n",
       "\n",
       "    .dataframe thead th {\n",
       "        text-align: right;\n",
       "    }\n",
       "</style>\n",
       "<table border=\"1\" class=\"dataframe\">\n",
       "  <thead>\n",
       "    <tr style=\"text-align: right;\">\n",
       "      <th></th>\n",
       "      <th>postcode</th>\n",
       "      <th>eastings</th>\n",
       "      <th>northings</th>\n",
       "      <th>latitude</th>\n",
       "      <th>longitude</th>\n",
       "      <th>geometry</th>\n",
       "    </tr>\n",
       "  </thead>\n",
       "  <tbody>\n",
       "    <tr>\n",
       "      <th>0</th>\n",
       "      <td>AL1</td>\n",
       "      <td>515800</td>\n",
       "      <td>206900</td>\n",
       "      <td>51.74836</td>\n",
       "      <td>-0.32237</td>\n",
       "      <td>None</td>\n",
       "    </tr>\n",
       "    <tr>\n",
       "      <th>1</th>\n",
       "      <td>AL10</td>\n",
       "      <td>522200</td>\n",
       "      <td>208300</td>\n",
       "      <td>51.75958</td>\n",
       "      <td>-0.2292</td>\n",
       "      <td>None</td>\n",
       "    </tr>\n",
       "    <tr>\n",
       "      <th>2</th>\n",
       "      <td>AL2</td>\n",
       "      <td>515100</td>\n",
       "      <td>203800</td>\n",
       "      <td>51.72064</td>\n",
       "      <td>-0.33353</td>\n",
       "      <td>None</td>\n",
       "    </tr>\n",
       "    <tr>\n",
       "      <th>3</th>\n",
       "      <td>AL3</td>\n",
       "      <td>512400</td>\n",
       "      <td>210100</td>\n",
       "      <td>51.77781</td>\n",
       "      <td>-0.37057</td>\n",
       "      <td>None</td>\n",
       "    </tr>\n",
       "    <tr>\n",
       "      <th>4</th>\n",
       "      <td>AL4</td>\n",
       "      <td>517700</td>\n",
       "      <td>209500</td>\n",
       "      <td>51.77133</td>\n",
       "      <td>-0.29398</td>\n",
       "      <td>None</td>\n",
       "    </tr>\n",
       "    <tr>\n",
       "      <th>...</th>\n",
       "      <td>...</td>\n",
       "      <td>...</td>\n",
       "      <td>...</td>\n",
       "      <td>...</td>\n",
       "      <td>...</td>\n",
       "      <td>...</td>\n",
       "    </tr>\n",
       "    <tr>\n",
       "      <th>2143</th>\n",
       "      <td>YO61</td>\n",
       "      <td>452700</td>\n",
       "      <td>469200</td>\n",
       "      <td>54.11579</td>\n",
       "      <td>-1.1937</td>\n",
       "      <td>None</td>\n",
       "    </tr>\n",
       "    <tr>\n",
       "      <th>2144</th>\n",
       "      <td>YO62</td>\n",
       "      <td>465600</td>\n",
       "      <td>483500</td>\n",
       "      <td>54.24282</td>\n",
       "      <td>-0.99325</td>\n",
       "      <td>None</td>\n",
       "    </tr>\n",
       "    <tr>\n",
       "      <th>2145</th>\n",
       "      <td>YO7</td>\n",
       "      <td>442400</td>\n",
       "      <td>481100</td>\n",
       "      <td>54.2237</td>\n",
       "      <td>-1.3496</td>\n",
       "      <td>None</td>\n",
       "    </tr>\n",
       "    <tr>\n",
       "      <th>2146</th>\n",
       "      <td>YO8</td>\n",
       "      <td>462100</td>\n",
       "      <td>432100</td>\n",
       "      <td>53.7813</td>\n",
       "      <td>-1.05745</td>\n",
       "      <td>None</td>\n",
       "    </tr>\n",
       "    <tr>\n",
       "      <th>2147</th>\n",
       "      <td></td>\n",
       "      <td></td>\n",
       "      <td></td>\n",
       "      <td></td>\n",
       "      <td></td>\n",
       "      <td>None</td>\n",
       "    </tr>\n",
       "  </tbody>\n",
       "</table>\n",
       "<p>2148 rows × 6 columns</p>\n",
       "</div>"
      ],
      "text/plain": [
       "     postcode eastings northings  latitude longitude geometry\n",
       "0         AL1   515800    206900  51.74836  -0.32237     None\n",
       "1        AL10   522200    208300  51.75958   -0.2292     None\n",
       "2         AL2   515100    203800  51.72064  -0.33353     None\n",
       "3         AL3   512400    210100  51.77781  -0.37057     None\n",
       "4         AL4   517700    209500  51.77133  -0.29398     None\n",
       "...       ...      ...       ...       ...       ...      ...\n",
       "2143     YO61   452700    469200  54.11579   -1.1937     None\n",
       "2144     YO62   465600    483500  54.24282  -0.99325     None\n",
       "2145      YO7   442400    481100   54.2237   -1.3496     None\n",
       "2146      YO8   462100    432100   53.7813  -1.05745     None\n",
       "2147                                                     None\n",
       "\n",
       "[2148 rows x 6 columns]"
      ]
     },
     "execution_count": 89,
     "metadata": {},
     "output_type": "execute_result"
    }
   ],
   "source": [
    "postcodes = gpd.read_file(\"C:\\\\Users\\\\inkyt\\\\Documents\\\\GitHub\\\\egm722\\\\EGM722_Assignment\\\\englishpostcodes3.csv\")\n",
    "postcodes"
   ]
  },
  {
   "cell_type": "code",
   "execution_count": 108,
   "id": "f28e20cf",
   "metadata": {},
   "outputs": [
    {
     "data": {
      "text/html": [
       "<div>\n",
       "<style scoped>\n",
       "    .dataframe tbody tr th:only-of-type {\n",
       "        vertical-align: middle;\n",
       "    }\n",
       "\n",
       "    .dataframe tbody tr th {\n",
       "        vertical-align: top;\n",
       "    }\n",
       "\n",
       "    .dataframe thead th {\n",
       "        text-align: right;\n",
       "    }\n",
       "</style>\n",
       "<table border=\"1\" class=\"dataframe\">\n",
       "  <thead>\n",
       "    <tr style=\"text-align: right;\">\n",
       "      <th></th>\n",
       "      <th>postcode</th>\n",
       "      <th>eastings</th>\n",
       "      <th>northings</th>\n",
       "      <th>latitude</th>\n",
       "      <th>longitude</th>\n",
       "      <th>geometry</th>\n",
       "    </tr>\n",
       "  </thead>\n",
       "  <tbody>\n",
       "    <tr>\n",
       "      <th>0</th>\n",
       "      <td>AL1</td>\n",
       "      <td>515800</td>\n",
       "      <td>206900</td>\n",
       "      <td>51.74836</td>\n",
       "      <td>-0.32237</td>\n",
       "      <td>POINT (515800.000 206900.000)</td>\n",
       "    </tr>\n",
       "    <tr>\n",
       "      <th>1</th>\n",
       "      <td>AL10</td>\n",
       "      <td>522200</td>\n",
       "      <td>208300</td>\n",
       "      <td>51.75958</td>\n",
       "      <td>-0.2292</td>\n",
       "      <td>POINT (522200.000 208300.000)</td>\n",
       "    </tr>\n",
       "    <tr>\n",
       "      <th>2</th>\n",
       "      <td>AL2</td>\n",
       "      <td>515100</td>\n",
       "      <td>203800</td>\n",
       "      <td>51.72064</td>\n",
       "      <td>-0.33353</td>\n",
       "      <td>POINT (515100.000 203800.000)</td>\n",
       "    </tr>\n",
       "    <tr>\n",
       "      <th>3</th>\n",
       "      <td>AL3</td>\n",
       "      <td>512400</td>\n",
       "      <td>210100</td>\n",
       "      <td>51.77781</td>\n",
       "      <td>-0.37057</td>\n",
       "      <td>POINT (512400.000 210100.000)</td>\n",
       "    </tr>\n",
       "    <tr>\n",
       "      <th>4</th>\n",
       "      <td>AL4</td>\n",
       "      <td>517700</td>\n",
       "      <td>209500</td>\n",
       "      <td>51.77133</td>\n",
       "      <td>-0.29398</td>\n",
       "      <td>POINT (517700.000 209500.000)</td>\n",
       "    </tr>\n",
       "    <tr>\n",
       "      <th>...</th>\n",
       "      <td>...</td>\n",
       "      <td>...</td>\n",
       "      <td>...</td>\n",
       "      <td>...</td>\n",
       "      <td>...</td>\n",
       "      <td>...</td>\n",
       "    </tr>\n",
       "    <tr>\n",
       "      <th>2143</th>\n",
       "      <td>YO61</td>\n",
       "      <td>452700</td>\n",
       "      <td>469200</td>\n",
       "      <td>54.11579</td>\n",
       "      <td>-1.1937</td>\n",
       "      <td>POINT (452700.000 469200.000)</td>\n",
       "    </tr>\n",
       "    <tr>\n",
       "      <th>2144</th>\n",
       "      <td>YO62</td>\n",
       "      <td>465600</td>\n",
       "      <td>483500</td>\n",
       "      <td>54.24282</td>\n",
       "      <td>-0.99325</td>\n",
       "      <td>POINT (465600.000 483500.000)</td>\n",
       "    </tr>\n",
       "    <tr>\n",
       "      <th>2145</th>\n",
       "      <td>YO7</td>\n",
       "      <td>442400</td>\n",
       "      <td>481100</td>\n",
       "      <td>54.2237</td>\n",
       "      <td>-1.3496</td>\n",
       "      <td>POINT (442400.000 481100.000)</td>\n",
       "    </tr>\n",
       "    <tr>\n",
       "      <th>2146</th>\n",
       "      <td>YO8</td>\n",
       "      <td>462100</td>\n",
       "      <td>432100</td>\n",
       "      <td>53.7813</td>\n",
       "      <td>-1.05745</td>\n",
       "      <td>POINT (462100.000 432100.000)</td>\n",
       "    </tr>\n",
       "    <tr>\n",
       "      <th>2147</th>\n",
       "      <td></td>\n",
       "      <td></td>\n",
       "      <td></td>\n",
       "      <td></td>\n",
       "      <td></td>\n",
       "      <td>POINT (nan nan)</td>\n",
       "    </tr>\n",
       "  </tbody>\n",
       "</table>\n",
       "<p>2148 rows × 6 columns</p>\n",
       "</div>"
      ],
      "text/plain": [
       "     postcode eastings northings  latitude longitude  \\\n",
       "0         AL1   515800    206900  51.74836  -0.32237   \n",
       "1        AL10   522200    208300  51.75958   -0.2292   \n",
       "2         AL2   515100    203800  51.72064  -0.33353   \n",
       "3         AL3   512400    210100  51.77781  -0.37057   \n",
       "4         AL4   517700    209500  51.77133  -0.29398   \n",
       "...       ...      ...       ...       ...       ...   \n",
       "2143     YO61   452700    469200  54.11579   -1.1937   \n",
       "2144     YO62   465600    483500  54.24282  -0.99325   \n",
       "2145      YO7   442400    481100   54.2237   -1.3496   \n",
       "2146      YO8   462100    432100   53.7813  -1.05745   \n",
       "2147                                                   \n",
       "\n",
       "                           geometry  \n",
       "0     POINT (515800.000 206900.000)  \n",
       "1     POINT (522200.000 208300.000)  \n",
       "2     POINT (515100.000 203800.000)  \n",
       "3     POINT (512400.000 210100.000)  \n",
       "4     POINT (517700.000 209500.000)  \n",
       "...                             ...  \n",
       "2143  POINT (452700.000 469200.000)  \n",
       "2144  POINT (465600.000 483500.000)  \n",
       "2145  POINT (442400.000 481100.000)  \n",
       "2146  POINT (462100.000 432100.000)  \n",
       "2147                POINT (nan nan)  \n",
       "\n",
       "[2148 rows x 6 columns]"
      ]
     },
     "execution_count": 108,
     "metadata": {},
     "output_type": "execute_result"
    }
   ],
   "source": [
    "postcodes['geometry'] = geometry\n",
    "postcodes = gpd.GeoDataFrame(postcodes)\n",
    "postcodes"
   ]
  },
  {
   "cell_type": "code",
   "execution_count": 109,
   "id": "88fe2ee0",
   "metadata": {},
   "outputs": [
    {
     "name": "stdout",
     "output_type": "stream",
     "text": [
      "EPSG:27700\n"
     ]
    }
   ],
   "source": [
    "\n",
    "#this is how we define the projection\n",
    "postcodes.crs = \"EPSG:27700\"\n",
    "print (postcodes.crs)\n",
    "EPSG:27700"
   ]
  },
  {
   "cell_type": "code",
   "execution_count": 110,
   "id": "86e78504",
   "metadata": {},
   "outputs": [
    {
     "name": "stdout",
     "output_type": "stream",
     "text": [
      "EPSG:27700\n"
     ]
    }
   ],
   "source": [
    "monuments.crs = \"EPSG:27700\"\n",
    "print (monuments.crs)\n",
    "EPSG:27700"
   ]
  },
  {
   "cell_type": "code",
   "execution_count": 111,
   "id": "e9fa4dde",
   "metadata": {},
   "outputs": [],
   "source": [
    "#create an STRtree object using the geometries I want to search:\n",
    "\n",
    "from shapely.strtree import STRtree\n",
    "monument_tree = STRtree(monuments['geometry'].values) # creates an STRtree object with the monuments data"
   ]
  },
  {
   "cell_type": "code",
   "execution_count": 124,
   "id": "282ad865",
   "metadata": {},
   "outputs": [],
   "source": [
    "postcode = postcodes.loc[postcodes['postcode'] == 'B19', 'geometry'].values[0]"
   ]
  },
  {
   "cell_type": "code",
   "execution_count": 125,
   "id": "12089540",
   "metadata": {},
   "outputs": [],
   "source": [
    "nearest_monument = monument_tree.nearest(postcode) # gets the closest object in monuments to the postcode geometry"
   ]
  },
  {
   "cell_type": "code",
   "execution_count": 126,
   "id": "cf638031",
   "metadata": {},
   "outputs": [
    {
     "name": "stdout",
     "output_type": "stream",
     "text": [
      "POLYGON ((403485.4500000002 288820.8000000007, 403485.3499999996 288817.75, 403485.4900000002 288783.4279999994, 403482.6119999997 288783.443, 403444.932 288783.6380000003, 403427.2369999997 288787.2909999993, 403411.2000000002 288790, 403403.9000000004 288790.8499999996, 403400.6500000004 288791.1999999993, 403391.3190000001 288791.9759999998, 403381.2460000003 288792.8870000001, 403371.0789999999 288792.9710000008, 403369.7000000002 288794.9499999993, 403368.0999999996 288797.0999999996, 403366.9500000002 288798.75, 403365.75 288800.3000000007, 403364.5 288801.8000000007, 403363.2000000002 288803.3000000007, 403356.3499999996 288811.3000000007, 403358.1500000004 288812.8000000007, 403358.3499999996 288813.4000000004, 403359.0999999996 288815.4000000004, 403360.25 288818.1500000004, 403360.0999999996 288818.1500000004, 403399.0630000001 288936.9949999992, 403484.7070000004 288937.8159999996, 403484.8499999996 288914.0999999996, 403485.0999999996 288904.3499999996, 403485.25 288894.6500000004, 403485.2999999998 288884.3000000007, 403485.2000000002 288873.9000000004, 403485.3499999996 288848.4000000004, 403485.4500000002 288823.9000000004, 403485.4500000002 288820.8000000007))\n"
     ]
    }
   ],
   "source": [
    "print (nearest_monument)"
   ]
  },
  {
   "cell_type": "code",
   "execution_count": 135,
   "id": "172f9772",
   "metadata": {},
   "outputs": [],
   "source": [
    "nearest_metadata = monuments.loc[monuments['geometry'].values == nearest_monument]"
   ]
  },
  {
   "cell_type": "code",
   "execution_count": 136,
   "id": "cca44d70",
   "metadata": {},
   "outputs": [
    {
     "name": "stdout",
     "output_type": "stream",
     "text": [
      "       ListEntry                                               Name  \\\n",
      "19648    1021388  Remains of the Boulton and Watt Soho foundry a...   \n",
      "\n",
      "        SchedDate AmendDate LegacyUID             NGR CaptureSca  \\\n",
      "19648  2008-04-17      None     35144  SP 03421 88863     1:1250   \n",
      "\n",
      "             Easting       Northing   AREA_HA  \\\n",
      "19648  403431.035327  288857.808858  1.630571   \n",
      "\n",
      "                                               Hyperlink  \\\n",
      "19648  https://historicengland.org.uk/listing/the-lis...   \n",
      "\n",
      "                                                geometry  \n",
      "19648  POLYGON ((403485.450 288820.800, 403485.350 28...  \n"
     ]
    }
   ],
   "source": [
    "print(nearest_metadata)"
   ]
  },
  {
   "cell_type": "code",
   "execution_count": null,
   "id": "4e513b32",
   "metadata": {},
   "outputs": [],
   "source": []
  }
 ],
 "metadata": {
  "kernelspec": {
   "display_name": "Python 3 (ipykernel)",
   "language": "python",
   "name": "python3"
  },
  "language_info": {
   "codemirror_mode": {
    "name": "ipython",
    "version": 3
   },
   "file_extension": ".py",
   "mimetype": "text/x-python",
   "name": "python",
   "nbconvert_exporter": "python",
   "pygments_lexer": "ipython3",
   "version": "3.8.8"
  }
 },
 "nbformat": 4,
 "nbformat_minor": 5
}
