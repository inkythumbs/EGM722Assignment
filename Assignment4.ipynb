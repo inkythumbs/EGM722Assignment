{
 "cells": [
  {
   "cell_type": "markdown",
   "id": "832960da",
   "metadata": {},
   "source": [
    "Find nearby Scheduled Monuments in England by postcode.\n",
    "\n",
    "This code will find the nearest 5 scheduled monuments to the centre point of any given English postcode (just the first half!).\n"
   ]
  },
  {
   "cell_type": "code",
   "execution_count": 2,
   "id": "0a4c3297",
   "metadata": {},
   "outputs": [],
   "source": [
    "import pandas as pd\n",
    "import geopandas as gpd\n",
    "import matplotlib.pyplot as plt\n",
    "from mpl_toolkits.axes_grid1 import make_axes_locatable\n",
    "from cartopy.feature import ShapelyFeature\n",
    "import cartopy.crs as ccrs\n",
    "import matplotlib.patches as mpatches\n",
    "from shapely.geometry import Point"
   ]
  },
  {
   "cell_type": "code",
   "execution_count": 3,
   "id": "ae449346",
   "metadata": {},
   "outputs": [],
   "source": [
    "monuments = gpd.read_file('C:\\\\Users\\\\inkyt\\\\Documents\\\\GitHub\\\\egm722\\\\EGM722_Assignment\\\\Scheduled Monuments\\\\Monuments2.shp')\n",
    "monuments.crs = \"EPSG:27700\""
   ]
  },
  {
   "cell_type": "code",
   "execution_count": 4,
   "id": "32da4095",
   "metadata": {},
   "outputs": [
    {
     "name": "stderr",
     "output_type": "stream",
     "text": [
      "C:\\Users\\inkyt\\anaconda3\\envs\\egm722\\lib\\site-packages\\geopandas\\geodataframe.py:577: RuntimeWarning: Sequential read of iterator was interrupted. Resetting iterator. This can negatively impact the performance.\n",
      "  for feature in features_lst:\n"
     ]
    },
    {
     "ename": "NameError",
     "evalue": "name 'geometry' is not defined",
     "output_type": "error",
     "traceback": [
      "\u001b[1;31m---------------------------------------------------------------------------\u001b[0m",
      "\u001b[1;31mNameError\u001b[0m                                 Traceback (most recent call last)",
      "Input \u001b[1;32mIn [4]\u001b[0m, in \u001b[0;36m<cell line: 2>\u001b[1;34m()\u001b[0m\n\u001b[0;32m      1\u001b[0m postcodes \u001b[38;5;241m=\u001b[39m gpd\u001b[38;5;241m.\u001b[39mread_file(\u001b[38;5;124m\"\u001b[39m\u001b[38;5;124mC:\u001b[39m\u001b[38;5;130;01m\\\\\u001b[39;00m\u001b[38;5;124mUsers\u001b[39m\u001b[38;5;130;01m\\\\\u001b[39;00m\u001b[38;5;124minkyt\u001b[39m\u001b[38;5;130;01m\\\\\u001b[39;00m\u001b[38;5;124mDocuments\u001b[39m\u001b[38;5;130;01m\\\\\u001b[39;00m\u001b[38;5;124mGitHub\u001b[39m\u001b[38;5;130;01m\\\\\u001b[39;00m\u001b[38;5;124megm722\u001b[39m\u001b[38;5;130;01m\\\\\u001b[39;00m\u001b[38;5;124mEGM722_Assignment\u001b[39m\u001b[38;5;130;01m\\\\\u001b[39;00m\u001b[38;5;124menglishpostcodes3.csv\u001b[39m\u001b[38;5;124m\"\u001b[39m)\n\u001b[1;32m----> 2\u001b[0m postcodes[\u001b[38;5;124m'\u001b[39m\u001b[38;5;124mgeometry\u001b[39m\u001b[38;5;124m'\u001b[39m] \u001b[38;5;241m=\u001b[39m \u001b[43mgeometry\u001b[49m\n\u001b[0;32m      3\u001b[0m postcodes \u001b[38;5;241m=\u001b[39m gpd\u001b[38;5;241m.\u001b[39mGeoDataFrame(postcodes)\n\u001b[0;32m      4\u001b[0m \u001b[38;5;66;03m#define the projection\u001b[39;00m\n",
      "\u001b[1;31mNameError\u001b[0m: name 'geometry' is not defined"
     ]
    }
   ],
   "source": [
    "postcodes = gpd.read_file(\"C:\\\\Users\\\\inkyt\\\\Documents\\\\GitHub\\\\egm722\\\\EGM722_Assignment\\\\englishpostcodes3.csv\")\n",
    "postcodes['geometry'] = geometry\n",
    "postcodes = gpd.GeoDataFrame(postcodes)\n",
    "#define the projection\n",
    "postcodes.crs = \"EPSG:27700\""
   ]
  },
  {
   "cell_type": "code",
   "execution_count": 161,
   "id": "4e69c17d",
   "metadata": {},
   "outputs": [],
   "source": [
    "#create an STRtree object using the geometries I want to search:\n",
    "from shapely.strtree import STRtree\n",
    "monument_tree = STRtree(monuments['geometry'].values) # creates an STRtree object with the monuments data"
   ]
  },
  {
   "cell_type": "code",
   "execution_count": 206,
   "id": "48b12fde",
   "metadata": {},
   "outputs": [],
   "source": [
    "postcode = postcodes.loc[postcodes['postcode'] == 'NE18', 'geometry'].values[0]"
   ]
  },
  {
   "cell_type": "code",
   "execution_count": 207,
   "id": "523f1278",
   "metadata": {},
   "outputs": [],
   "source": [
    "nearest_monument_1 = monument_tree.nearest(postcode) # gets the closest object in monuments to the postcode geometry"
   ]
  },
  {
   "cell_type": "code",
   "execution_count": 208,
   "id": "3a731f9e",
   "metadata": {},
   "outputs": [],
   "source": [
    "nearest_metadata = monuments.loc[monuments['geometry'].values == nearest_monument_1] #gets the metadata for the nearest monument"
   ]
  },
  {
   "cell_type": "code",
   "execution_count": 209,
   "id": "a83b2afa",
   "metadata": {},
   "outputs": [
    {
     "name": "stdout",
     "output_type": "stream",
     "text": [
      "Market cross\n"
     ]
    }
   ],
   "source": [
    "print(nearest_metadata['Name'].values[0]) #prints just the info from the field 'Name' in the metadata from the nearest scheduled monument"
   ]
  },
  {
   "cell_type": "code",
   "execution_count": 213,
   "id": "b7c21980",
   "metadata": {},
   "outputs": [
    {
     "name": "stderr",
     "output_type": "stream",
     "text": [
      "C:\\Users\\inkyt\\anaconda3\\envs\\egm722\\lib\\site-packages\\geopandas\\geodataframe.py:577: RuntimeWarning: Sequential read of iterator was interrupted. Resetting iterator. This can negatively impact the performance.\n",
      "  for feature in features_lst:\n"
     ]
    },
    {
     "name": "stdout",
     "output_type": "stream",
     "text": [
      "St Mary's Chapel, Jesmond\n"
     ]
    }
   ],
   "source": [
    "def monument_finder():\n",
    "    monuments = gpd.read_file('C:\\\\Users\\\\inkyt\\\\Documents\\\\GitHub\\\\egm722\\\\EGM722_Assignment\\\\Scheduled Monuments\\\\Monuments2.shp')\n",
    "    monuments.crs = \"EPSG:27700\"\n",
    "    postcodes = gpd.read_file(\"C:\\\\Users\\\\inkyt\\\\Documents\\\\GitHub\\\\egm722\\\\EGM722_Assignment\\\\englishpostcodes3.csv\")\n",
    "    postcodes['geometry'] = geometry\n",
    "    postcodes = gpd.GeoDataFrame(postcodes)\n",
    "    postcodes.crs = \"EPSG:27700\"\n",
    "    from shapely.strtree import STRtree\n",
    "    monument_tree = STRtree(monuments['geometry'].values)\n",
    "    postcode = postcodes.loc[postcodes['postcode'] == 'NE7', 'geometry'].values[0]\n",
    "    nearest_monument_1 = monument_tree.nearest(postcode)\n",
    "    nearest_metadata = monuments.loc[monuments['geometry'].values == nearest_monument_1]\n",
    "    print(nearest_metadata['Name'].values[0])\n",
    "\n",
    "monument_finder()"
   ]
  },
  {
   "cell_type": "code",
   "execution_count": 223,
   "id": "3d39321e",
   "metadata": {},
   "outputs": [],
   "source": [
    "def monument_finder(pcode): \n",
    "    monuments = gpd.read_file('C:\\\\Users\\\\inkyt\\\\Documents\\\\GitHub\\\\egm722\\\\EGM722_Assignment\\\\Scheduled Monuments\\\\Monuments2.shp')\n",
    "    monuments.crs = \"EPSG:27700\"\n",
    "    postcodes = gpd.read_file(\"C:\\\\Users\\\\inkyt\\\\Documents\\\\GitHub\\\\egm722\\\\EGM722_Assignment\\\\englishpostcodes3.csv\")\n",
    "    postcodes['geometry'] = geometry\n",
    "    postcodes = gpd.GeoDataFrame(postcodes)\n",
    "    postcodes.crs = \"EPSG:27700\"\n",
    "    from shapely.strtree import STRtree\n",
    "    monument_tree = STRtree(monuments['geometry'].values)\n",
    "    postcode = postcodes.loc[postcodes['postcode'] == pcode, 'geometry'].values[0]\n",
    "    nearest_monument = monument_tree.nearest(postcode)\n",
    "    nearest_metadata = monuments.loc[monuments['geometry'].values == nearest_monument]\n",
    "    print(nearest_metadata['Name'].values[0])\n"
   ]
  },
  {
   "cell_type": "code",
   "execution_count": 224,
   "id": "b6076e2f",
   "metadata": {},
   "outputs": [
    {
     "name": "stderr",
     "output_type": "stream",
     "text": [
      "C:\\Users\\inkyt\\anaconda3\\envs\\egm722\\lib\\site-packages\\geopandas\\geodataframe.py:577: RuntimeWarning: Sequential read of iterator was interrupted. Resetting iterator. This can negatively impact the performance.\n",
      "  for feature in features_lst:\n"
     ]
    },
    {
     "name": "stdout",
     "output_type": "stream",
     "text": [
      "Hadrian's Wall in wall mile 5, sections of wall in playing field of Rutherford School\n"
     ]
    }
   ],
   "source": [
    "pcode='NE4'\n",
    "monument_finder(pcode)\n"
   ]
  },
  {
   "cell_type": "code",
   "execution_count": 233,
   "id": "85c49808",
   "metadata": {},
   "outputs": [
    {
     "name": "stdout",
     "output_type": "stream",
     "text": [
      "MULTIPOLYGON (((344859.4199999999 549589.6689999998, 344852.1720000003 549465.3249999993, 344827.9720000001 549466.9979999997, 344760.9479999999 549467.6669999994, 344761.449 549470.7699999996, 344762.5420000004 549476.2390000001, 344765.8229999999 549482.6649999991, 344770.7460000003 549490.8680000007, 344772.7960000001 549493.7390000001, 344774.8470000001 549496.0629999992, 344775.8039999995 549499.4810000006, 344776.7609999999 549501.9419999998, 344779.2220000001 549504.6760000009, 344781.5460000001 549507.1370000001, 344786.1950000003 549510.6919999998, 344787.1519999998 549512.8800000008, 344787.1519999998 549515.477, 344786.6050000004 549518.6219999995, 344786.6050000004 549521.7660000008, 344790.159 549539.9489999991, 344790.5690000001 549544.4609999992, 344790.9800000004 549553.4849999994, 344792.4840000002 549559.3640000001, 344794.1239999998 549564.5590000004, 344794.398 549571.1209999993, 344793.7139999997 549577, 344792.0729999999 549581.102, 344790.0080000004 549585.1150000002, 344787.4819999998 549588.7139999997, 344786.04 549590.3379999995, 344859.4199999999 549589.6689999998)), ((344881.2199999997 549686.7760000005, 344971.398 549523.2469999995, 344971.7220000001 549500.2709999997, 344948.8530000001 549485.9240000006, 344927.2070000004 549521.3200000003, 344912.4879999999 549545.7829999998, 344896.9390000002 549571.6970000006, 344886.5729999999 549588.6970000006, 344875.5 549605.5620000008, 344864.1830000002 549626.0140000004, 344857.5489999996 549637.0020000003, 344852.7810000004 549643.0140000004, 344848.2199999997 549647.3670000006, 344837.0250000004 549656.6970000006, 344831.2199999997 549661.4649999999, 344833.0860000001 549662.9159999993, 344836.6100000003 549661.6720000003, 344838.6830000002 549661.2579999994, 344840.9639999997 549662.2939999998, 344845.9400000004 549666.8550000004, 344844.7599999998 549669.3010000009, 344853.7130000005 549675.9890000001, 344864.284 549684.8340000007, 344876.0420000004 549694.5419999994, 344881.2199999997 549686.7760000005)))\n"
     ]
    }
   ],
   "source": [
    "def monument_finder(pcode): \n",
    "    monuments = gpd.read_file('C:\\\\Users\\\\inkyt\\\\Documents\\\\GitHub\\\\egm722\\\\EGM722_Assignment\\\\Scheduled Monuments\\\\Monuments2.shp')\n",
    "    monuments.crs = \"EPSG:27700\"\n",
    "    postcodes = gpd.read_file(\"C:\\\\Users\\\\inkyt\\\\Documents\\\\GitHub\\\\egm722\\\\EGM722_Assignment\\\\englishpostcodes3.csv\")\n",
    "    postcodes['geometry'] = geometry\n",
    "    postcodes = gpd.GeoDataFrame(postcodes)\n",
    "    postcodes.crs = \"EPSG:27700\"\n",
    "    from shapely.strtree import STRtree\n",
    "    monument_tree = STRtree(monuments['geometry'].values)\n",
    "    postcode = postcodes.loc[postcodes['postcode'] == pcode, 'geometry'].values[0]\n",
    "    nearest_monument = monument_tree.sort(postcode)\n",
    "    nearest_metadata = monuments.loc[monuments['geometry'].values == nearest_monument]\n",
    "  \n",
    "    \n",
    "print(nearest_monument)"
   ]
  },
  {
   "cell_type": "code",
   "execution_count": null,
   "id": "2140531b",
   "metadata": {},
   "outputs": [],
   "source": [
    "lst.sort(reverse=True)\n",
    "print(lst)"
   ]
  },
  {
   "cell_type": "code",
   "execution_count": null,
   "id": "cfaeda4d",
   "metadata": {},
   "outputs": [],
   "source": [
    "def monument_finder(pcode): \n",
    "    monuments = gpd.read_file('C:\\\\Users\\\\inkyt\\\\Documents\\\\GitHub\\\\egm722\\\\EGM722_Assignment\\\\Scheduled Monuments\\\\Monuments2.shp')\n",
    "    monuments.crs = \"EPSG:27700\"\n",
    "    postcodes = gpd.read_file(\"C:\\\\Users\\\\inkyt\\\\Documents\\\\GitHub\\\\egm722\\\\EGM722_Assignment\\\\englishpostcodes3.csv\")\n",
    "    postcodes['geometry'] = geometry\n",
    "    postcodes = gpd.GeoDataFrame(postcodes)\n",
    "    postcodes.crs = \"EPSG:27700\"\n",
    "    #this is where the shapely import statement went, before I took it out .\n",
    "    monument_tree = STRtree(monuments['geometry'].values)\n",
    "    postcode = postcodes.loc[postcodes['postcode'] == pcode, 'geometry'].values[0]\n",
    "    nearest_monument = monument_tree.nearest(postcode)\n",
    "    nearest_metadata = monuments.loc[monuments['geometry'].values == nearest_monument]\n",
    "    print(nearest_metadata['Name'].values[0])\n"
   ]
  }
 ],
 "metadata": {
  "kernelspec": {
   "display_name": "Python 3 (ipykernel)",
   "language": "python",
   "name": "python3"
  },
  "language_info": {
   "codemirror_mode": {
    "name": "ipython",
    "version": 3
   },
   "file_extension": ".py",
   "mimetype": "text/x-python",
   "name": "python",
   "nbconvert_exporter": "python",
   "pygments_lexer": "ipython3",
   "version": "3.8.8"
  }
 },
 "nbformat": 4,
 "nbformat_minor": 5
}
